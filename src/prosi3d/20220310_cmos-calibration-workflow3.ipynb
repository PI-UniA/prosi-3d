{
 "cells": [
  {
   "cell_type": "code",
   "execution_count": 1,
   "metadata": {},
   "outputs": [],
   "source": [
    "import numpy as np\n",
    "import cv2\n",
    "import pandas as pd\n",
    "import matplotlib.pyplot as plt\n",
    "\n",
    "path = R'C:\\Users\\ringel\\Lokal\\Python-local\\m290_cmos_calibr_0821\\calibration'\n",
    "fname = path + R'\\Result of blitzv30-processed-final-rev.tif'"
   ]
  },
  {
   "cell_type": "code",
   "execution_count": 56,
   "metadata": {},
   "outputs": [],
   "source": [
    "def unwarpProj(img, fname, imgpoints, scale=1):\n",
    "    # shape (px)\n",
    "    h, w = img.shape[:2]\n",
    "    \n",
    "    # corners\n",
    "    cimg = pd.DataFrame(imgpoints[0][:,0,:])\n",
    "    cimg.columns = ['ximg', 'yimg']\n",
    "    cimg = cimg*scale\n",
    "\n",
    "    # edge points for unwarp\n",
    "    num_x = 43\n",
    "    leup = 0\n",
    "    lelo = cimg.shape[0] - num_x\n",
    "    riup = num_x - 1\n",
    "    rilo = -1\n",
    "    src = np.float32([cimg.iloc[leup].values,\n",
    "                    (cimg.iloc[lelo].values),\n",
    "                    (cimg.iloc[riup].values),\n",
    "                    (cimg.iloc[rilo].values)])\n",
    "\n",
    "    lens = np.zeros(4)\n",
    "    lens[0] = cimg.iloc[riup].values[0]-cimg.iloc[leup].values[0]\n",
    "    lens[1] = cimg.iloc[riup].values[0]-cimg.iloc[leup].values[0]\n",
    "    lens[2] = cimg.iloc[lelo].values[1]-cimg.iloc[leup].values[1]\n",
    "    lens[3] = cimg.iloc[rilo].values[1]-cimg.iloc[riup].values[1]\n",
    "    print(f\"lengths of upper edge: {lens[0]}; lower: {lens[1]}; left: {lens[2]}; right: {lens[3]}\")\n",
    "\n",
    "    # unwarped must be square. dimensions should not be greater then longest edge of found quadrangle. more precise would be use hypotenuse above\n",
    "    x = lens.max()\n",
    "    y = x\n",
    "    # offsets to show regions above and left besides in output image\n",
    "    offsx = 100*scale\n",
    "    offsy = 500*scale\n",
    "    dst = np.float32([(0+offsx, 0+offsy),\n",
    "                    (x+offsx, 0+offsy),\n",
    "                    (0+offsx, y+offsy),\n",
    "                    (x+offsx, y+offsy)])\n",
    "    \n",
    "    # M: transform matrix, Minv: the inverse\n",
    "    M = cv2.getPerspectiveTransform(src, dst)\n",
    "    # use cv2.warpPerspective() to warp your image to a top-down view\n",
    "    warped = cv2.warpPerspective(img, M, (h, w), flags=cv2.INTER_LINEAR)\n",
    "    rotated = cv2.rotate(warped, cv2.cv2.ROTATE_90_COUNTERCLOCKWISE)\n",
    "    flipped = cv2.flip(rotated, 0)\n",
    "    fout = fname.rsplit('.', 1)[0] + '_unwarp.tif'\n",
    "    cv2.imwrite(fout, flipped)\n",
    "    return flipped, fout, M\n",
    "\n",
    "\n",
    "def chessCorners(img, fname, x=43, y=43):\n",
    "    criteria = (cv2.TERM_CRITERIA_EPS + cv2.TERM_CRITERIA_MAX_ITER, 30, 0.001)\n",
    "    # prepare object points, like (0,0,0), (1,0,0), (2,0,0) ....,(6,5,0)\n",
    "    objp = np.zeros((x*y,3), np.float32)\n",
    "    objp[:,:2] = np.mgrid[0:x,0:y].T.reshape(-1,2)\n",
    "    # Arrays to store object points and image points from all images\n",
    "    objpoints = [] # 3d point in real world space\n",
    "    imgpoints = [] # 2d points in image plane.\n",
    "\n",
    "    #chessboard_flags = cv2.CALIB_CB_ADAPTIVE_THRESH + cv2.CALIB_CB_FILTER_QUADS + cv2.CALIB_CB_NORMALIZE_IMAGE\n",
    "    chessboard_flags = 0\n",
    "\n",
    "    if img.ndim == 3:\n",
    "        gray = cv2.cvtColor(img, cv2.COLOR_BGR2GRAY)\n",
    "    if img.ndim == 2:\n",
    "        gray = img.copy()\n",
    "    # Find the chessboard corners\n",
    "    ret, corners = cv2.findChessboardCorners(gray, (x,y), chessboard_flags)\n",
    "    # If found, add object points, image points (after refining them)\n",
    "    n = corners.shape[0]\n",
    "    file = fname.rsplit('\\\\', 1)[-1]\n",
    "    if ret == True:\n",
    "        print(f'{n} corners found in {file}')\n",
    "        objpoints.append(objp)\n",
    "        corners2 = cv2.cornerSubPix(gray,corners, (11,11), (-1,-1), criteria)\n",
    "        df_corners = pd.DataFrame(corners2[:,0])\n",
    "        df_corners.columns = ['x', 'y']\n",
    "        pos = fname.rfind('.')\n",
    "        f = fname[:pos] + '_corners.h5'\n",
    "        df_corners.to_hdf(f, key='df', mode='w')\n",
    "        imgpoints.append(corners)\n",
    "        # Draw and display the corners\n",
    "        # cv2.drawChessboardCorners(img, (x,y), corners2, ret)\n",
    "        cv2.drawChessboardCorners(img, (x,y), corners2, ret)\n",
    "        f = fname[:pos] + '_corners.tif'\n",
    "        cv2.imwrite(f, img)\n",
    "        return gray, objpoints, imgpoints\n",
    "    else:\n",
    "        print(f'No cornes could be found. Check preprocessing of input image.')\n",
    "\n",
    "def undistort(img, fname, objpoints, imgpoints, scale=1):\n",
    "    #objpoints = objpoints*scale\n",
    "    if scale != 1:\n",
    "        imgpoints2[0] = imgpoints2[0]*scale\n",
    "    if img.ndim == 3:\n",
    "        img = cv2.cvtColor(img, cv2.COLOR_BGR2GRAY)\n",
    "    retval, cameraMatrix, distCoeffs, rvecs, tvecs = cv2.calibrateCamera(objpoints, imgpoints, img.shape[::-1], None, None)\n",
    "    # images shape\n",
    "    h, w = img.shape[:2]\n",
    "    newCamMatrix, roi = cv2.getOptimalNewCameraMatrix(cameraMatrix, distCoeffs, (w,h), 1, (w,h))\n",
    "\n",
    "    undist = cv2.undistort(img, cameraMatrix, distCoeffs, None, newCamMatrix)\n",
    "    x, y, w, h = roi\n",
    "    undist = undist[y:y+h, x:x+w]\n",
    "    fout = fname.rsplit('.', 1)[0] + '_undist.tif'\n",
    "    cv2.imwrite(fout, undist)\n",
    "    \n",
    "    return undist, fout, cameraMatrix, distCoeffs\n",
    "\n"
   ]
  },
  {
   "cell_type": "markdown",
   "metadata": {},
   "source": [
    "Workflow:"
   ]
  },
  {
   "cell_type": "code",
   "execution_count": 66,
   "metadata": {},
   "outputs": [
    {
     "name": "stdout",
     "output_type": "stream",
     "text": [
      "No cornes could be found. Check preprocessing of input image.\n"
     ]
    },
    {
     "ename": "TypeError",
     "evalue": "cannot unpack non-iterable NoneType object",
     "output_type": "error",
     "traceback": [
      "\u001b[1;31m---------------------------------------------------------------------------\u001b[0m",
      "\u001b[1;31mTypeError\u001b[0m                                 Traceback (most recent call last)",
      "\u001b[1;32m<ipython-input-66-b1a0af77884b>\u001b[0m in \u001b[0;36m<module>\u001b[1;34m\u001b[0m\n\u001b[0;32m      2\u001b[0m \u001b[0mfname\u001b[0m \u001b[1;33m=\u001b[0m \u001b[0mpath\u001b[0m \u001b[1;33m+\u001b[0m \u001b[1;34mR'\\blitzv30-fullscale----final-manuallyfill-medianR10.tif'\u001b[0m\u001b[1;33m\u001b[0m\u001b[1;33m\u001b[0m\u001b[0m\n\u001b[0;32m      3\u001b[0m \u001b[0mimg\u001b[0m \u001b[1;33m=\u001b[0m \u001b[0mcv2\u001b[0m\u001b[1;33m.\u001b[0m\u001b[0mimread\u001b[0m\u001b[1;33m(\u001b[0m\u001b[0mfname\u001b[0m\u001b[1;33m)\u001b[0m\u001b[1;33m\u001b[0m\u001b[1;33m\u001b[0m\u001b[0m\n\u001b[1;32m----> 4\u001b[1;33m \u001b[0mimg\u001b[0m\u001b[1;33m,\u001b[0m \u001b[0mobjpoints\u001b[0m\u001b[1;33m,\u001b[0m \u001b[0mimgpoints\u001b[0m \u001b[1;33m=\u001b[0m \u001b[0mchessCorners\u001b[0m\u001b[1;33m(\u001b[0m\u001b[0mimg\u001b[0m\u001b[1;33m,\u001b[0m \u001b[0mfname\u001b[0m\u001b[1;33m)\u001b[0m\u001b[1;33m\u001b[0m\u001b[1;33m\u001b[0m\u001b[0m\n\u001b[0m\u001b[0;32m      5\u001b[0m \u001b[0mimg\u001b[0m\u001b[1;33m,\u001b[0m \u001b[0mfname\u001b[0m\u001b[1;33m,\u001b[0m \u001b[0mM\u001b[0m \u001b[1;33m=\u001b[0m \u001b[0munwarpProj\u001b[0m\u001b[1;33m(\u001b[0m\u001b[0mimg\u001b[0m\u001b[1;33m,\u001b[0m \u001b[0mfname\u001b[0m\u001b[1;33m,\u001b[0m \u001b[0mimgpoints\u001b[0m\u001b[1;33m,\u001b[0m \u001b[0mscale\u001b[0m\u001b[1;33m=\u001b[0m\u001b[1;36m1\u001b[0m\u001b[1;33m)\u001b[0m\u001b[1;33m\u001b[0m\u001b[1;33m\u001b[0m\u001b[0m\n\u001b[0;32m      6\u001b[0m \u001b[1;33m\u001b[0m\u001b[0m\n",
      "\u001b[1;31mTypeError\u001b[0m: cannot unpack non-iterable NoneType object"
     ]
    }
   ],
   "source": [
    "# set binarized correction image (used function findChessCorners is not able to process large images because filtersize is not changeable)\n",
    "# alternatively image could be devided into 4 subimages (quadrants) for cornerpointsearch and stitched together again\n",
    "# altough calibration could be done with themal signature and mimimum filter to avoid issues due to reflections and lightning\n",
    "fname = path + R'\\blitzv30-fullscale----final-manuallyfill-medianR10.tif'\n",
    "# import image with opencv\n",
    "img = cv2.imread(fname)\n",
    "# find cornerpoints\n",
    "img, objpoints, imgpoints = chessCorners(img, fname)\n",
    "# unwarp without scaling. file will be saved automatically\n",
    "img, fname, M = unwarpProj(img, fname, imgpoints, scale=1)\n",
    "# find corners again in unwarped image\n",
    "img, _, imgpoints2 = chessCorners(img, fname)\n",
    "# undistort unwarped image\n",
    "img, fname, cameraMatrix, distCoeffs = undistort(img, fname, objpoints, imgpoints2)\n",
    "# find corners again\n",
    "img, _, imgpoints3 = chessCorners(img, fname)"
   ]
  },
  {
   "cell_type": "markdown",
   "metadata": {},
   "source": [
    "Mit der Liste aus punkten in der letzten corners.h5 muss jetzt die skalierte maschinenkos korelation passieren"
   ]
  },
  {
   "cell_type": "code",
   "execution_count": 59,
   "metadata": {},
   "outputs": [
    {
     "data": {
      "text/plain": [
       "True"
      ]
     },
     "execution_count": 59,
     "metadata": {},
     "output_type": "execute_result"
    }
   ],
   "source": [
    "np.array_equal(objpoints,objpoints2)"
   ]
  },
  {
   "cell_type": "markdown",
   "metadata": {},
   "source": [
    "Apply to another image"
   ]
  },
  {
   "cell_type": "code",
   "execution_count": 57,
   "metadata": {},
   "outputs": [
    {
     "name": "stdout",
     "output_type": "stream",
     "text": [
      "lengths of upper edge: 5334.9140625; lower: 5334.9140625; left: 5261.421875; right: 5616.5068359375\n"
     ]
    }
   ],
   "source": [
    "# image to process\n",
    "forig = R'C:\\Users\\ringel\\Lokal\\Python-local\\m290_cmos_calibr_0821\\cmoslayers\\chessboard_eos_10s_f8_ext-flash30'\n",
    "# read with opencv\n",
    "imgorig = cv2.imread(forig)\n",
    "# unwarp with scaling regarding scaling of correction image \n",
    "imgorig, fname, M = unwarpProj(imgorig, forig, imgpoints, scale=4)\n",
    "# undistort with scaling regarding scaling of correction image \n",
    "imgorig, fname, cameraMatrix, distCoeffs = undistort(imgorig, fname, objpoints, imgpoints2, scale=4)"
   ]
  },
  {
   "cell_type": "code",
   "execution_count": 4,
   "metadata": {},
   "outputs": [],
   "source": [
    "layer = pd.read_hdf(R'C:\\Users\\ringel\\Lokal\\Python-local\\ProSi3D\\brosev2_19112021\\res\\eosxytime_00010.h5')"
   ]
  },
  {
   "cell_type": "code",
   "execution_count": 7,
   "metadata": {},
   "outputs": [
    {
     "data": {
      "text/html": [
       "<div>\n",
       "<style scoped>\n",
       "    .dataframe tbody tr th:only-of-type {\n",
       "        vertical-align: middle;\n",
       "    }\n",
       "\n",
       "    .dataframe tbody tr th {\n",
       "        vertical-align: top;\n",
       "    }\n",
       "\n",
       "    .dataframe thead th {\n",
       "        text-align: right;\n",
       "    }\n",
       "</style>\n",
       "<table border=\"1\" class=\"dataframe\">\n",
       "  <thead>\n",
       "    <tr style=\"text-align: right;\">\n",
       "      <th></th>\n",
       "      <th>time</th>\n",
       "      <th>lse</th>\n",
       "      <th>ttl</th>\n",
       "      <th>kse_bp</th>\n",
       "      <th>kse_rec</th>\n",
       "      <th>x_mm</th>\n",
       "      <th>y_mm</th>\n",
       "      <th>exposureType</th>\n",
       "      <th>partId</th>\n",
       "      <th>weldtime</th>\n",
       "      <th>weldId</th>\n",
       "    </tr>\n",
       "  </thead>\n",
       "  <tbody>\n",
       "    <tr>\n",
       "      <th>176110</th>\n",
       "      <td>0.000042</td>\n",
       "      <td>0.005634</td>\n",
       "      <td>4.532682</td>\n",
       "      <td>0.096516</td>\n",
       "      <td>-0.022952</td>\n",
       "      <td>72.163429</td>\n",
       "      <td>3.08</td>\n",
       "      <td>10.0</td>\n",
       "      <td>5.0</td>\n",
       "      <td>NaN</td>\n",
       "      <td>0.0</td>\n",
       "    </tr>\n",
       "    <tr>\n",
       "      <th>176111</th>\n",
       "      <td>0.000083</td>\n",
       "      <td>0.004596</td>\n",
       "      <td>4.638347</td>\n",
       "      <td>0.096612</td>\n",
       "      <td>-0.003456</td>\n",
       "      <td>72.246857</td>\n",
       "      <td>3.08</td>\n",
       "      <td>10.0</td>\n",
       "      <td>5.0</td>\n",
       "      <td>NaN</td>\n",
       "      <td>0.0</td>\n",
       "    </tr>\n",
       "    <tr>\n",
       "      <th>176112</th>\n",
       "      <td>0.000125</td>\n",
       "      <td>0.003798</td>\n",
       "      <td>4.677065</td>\n",
       "      <td>0.095507</td>\n",
       "      <td>-0.012271</td>\n",
       "      <td>72.330284</td>\n",
       "      <td>3.08</td>\n",
       "      <td>10.0</td>\n",
       "      <td>5.0</td>\n",
       "      <td>NaN</td>\n",
       "      <td>0.0</td>\n",
       "    </tr>\n",
       "    <tr>\n",
       "      <th>176113</th>\n",
       "      <td>0.000167</td>\n",
       "      <td>0.003474</td>\n",
       "      <td>4.695788</td>\n",
       "      <td>0.093767</td>\n",
       "      <td>-0.001354</td>\n",
       "      <td>72.413719</td>\n",
       "      <td>3.08</td>\n",
       "      <td>10.0</td>\n",
       "      <td>5.0</td>\n",
       "      <td>NaN</td>\n",
       "      <td>0.0</td>\n",
       "    </tr>\n",
       "    <tr>\n",
       "      <th>176114</th>\n",
       "      <td>0.000208</td>\n",
       "      <td>0.003050</td>\n",
       "      <td>4.712968</td>\n",
       "      <td>0.092993</td>\n",
       "      <td>0.001016</td>\n",
       "      <td>72.497147</td>\n",
       "      <td>3.08</td>\n",
       "      <td>10.0</td>\n",
       "      <td>5.0</td>\n",
       "      <td>NaN</td>\n",
       "      <td>0.0</td>\n",
       "    </tr>\n",
       "  </tbody>\n",
       "</table>\n",
       "</div>"
      ],
      "text/plain": [
       "            time       lse       ttl    kse_bp   kse_rec       x_mm  y_mm  \\\n",
       "176110  0.000042  0.005634  4.532682  0.096516 -0.022952  72.163429  3.08   \n",
       "176111  0.000083  0.004596  4.638347  0.096612 -0.003456  72.246857  3.08   \n",
       "176112  0.000125  0.003798  4.677065  0.095507 -0.012271  72.330284  3.08   \n",
       "176113  0.000167  0.003474  4.695788  0.093767 -0.001354  72.413719  3.08   \n",
       "176114  0.000208  0.003050  4.712968  0.092993  0.001016  72.497147  3.08   \n",
       "\n",
       "        exposureType  partId  weldtime  weldId  \n",
       "176110          10.0     5.0       NaN     0.0  \n",
       "176111          10.0     5.0       NaN     0.0  \n",
       "176112          10.0     5.0       NaN     0.0  \n",
       "176113          10.0     5.0       NaN     0.0  \n",
       "176114          10.0     5.0       NaN     0.0  "
      ]
     },
     "execution_count": 7,
     "metadata": {},
     "output_type": "execute_result"
    }
   ],
   "source": [
    "layer.loc[layer.time > 0].head()"
   ]
  },
  {
   "cell_type": "code",
   "execution_count": null,
   "metadata": {},
   "outputs": [],
   "source": []
  },
  {
   "cell_type": "code",
   "execution_count": null,
   "metadata": {},
   "outputs": [],
   "source": []
  }
 ],
 "metadata": {
  "interpreter": {
   "hash": "b3ba2566441a7c06988d0923437866b63cedc61552a5af99d1f4fb67d367b25f"
  },
  "kernelspec": {
   "display_name": "Python 3.7.3 ('base')",
   "language": "python",
   "name": "python3"
  },
  "language_info": {
   "codemirror_mode": {
    "name": "ipython",
    "version": 3
   },
   "file_extension": ".py",
   "mimetype": "text/x-python",
   "name": "python",
   "nbconvert_exporter": "python",
   "pygments_lexer": "ipython3",
   "version": "3.7.3"
  },
  "orig_nbformat": 4
 },
 "nbformat": 4,
 "nbformat_minor": 2
}
